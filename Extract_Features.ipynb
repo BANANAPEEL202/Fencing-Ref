{
  "nbformat": 4,
  "nbformat_minor": 0,
  "metadata": {
    "accelerator": "GPU",
    "colab": {
      "name": "Extract Features.ipynb",
      "provenance": [],
      "collapsed_sections": []
    },
    "kernelspec": {
      "display_name": "Python 3",
      "name": "python3"
    }
  },
  "cells": [
    {
      "cell_type": "code",
      "metadata": {
        "id": "4EosR0JSy3Ov"
      },
      "source": [
        "#huge thanks to miu200521358 on Github for figuring out how to get OpenPose working on a Colab notebook"
      ],
      "execution_count": null,
      "outputs": []
    },
    {
      "cell_type": "code",
      "metadata": {
        "colab": {
          "base_uri": "https://localhost:8080/"
        },
        "id": "-SWu3XHKj5U1",
        "outputId": "e5d1e6ca-357e-4cea-b8fe-732a9baa6d66"
      },
      "source": [
        "from google.colab import drive\n",
        "drive.mount('/content/drive')"
      ],
      "execution_count": null,
      "outputs": [
        {
          "output_type": "stream",
          "text": [
            "Mounted at /content/drive\n"
          ],
          "name": "stdout"
        }
      ]
    },
    {
      "cell_type": "code",
      "metadata": {
        "colab": {
          "base_uri": "https://localhost:8080/"
        },
        "id": "hp8rTOJ30J-b",
        "outputId": "81681a04-99c5-446a-85f6-1c9054d6ebff"
      },
      "source": [
        "# First, change the runtime type to \"GPU\".\n",
        "# Confirm runtime to GPU\n",
        "\n",
        "! nvcc --version\n",
        "! nvidia-smi"
      ],
      "execution_count": null,
      "outputs": [
        {
          "output_type": "stream",
          "text": [
            "nvcc: NVIDIA (R) Cuda compiler driver\n",
            "Copyright (c) 2005-2019 NVIDIA Corporation\n",
            "Built on Sun_Jul_28_19:07:16_PDT_2019\n",
            "Cuda compilation tools, release 10.1, V10.1.243\n",
            "Sun Jan 17 18:16:39 2021       \n",
            "+-----------------------------------------------------------------------------+\n",
            "| NVIDIA-SMI 460.27.04    Driver Version: 418.67       CUDA Version: 10.1     |\n",
            "|-------------------------------+----------------------+----------------------+\n",
            "| GPU  Name        Persistence-M| Bus-Id        Disp.A | Volatile Uncorr. ECC |\n",
            "| Fan  Temp  Perf  Pwr:Usage/Cap|         Memory-Usage | GPU-Util  Compute M. |\n",
            "|                               |                      |               MIG M. |\n",
            "|===============================+======================+======================|\n",
            "|   0  Tesla T4            Off  | 00000000:00:04.0 Off |                    0 |\n",
            "| N/A   52C    P8    11W /  70W |      0MiB / 15079MiB |      0%      Default |\n",
            "|                               |                      |                 ERR! |\n",
            "+-------------------------------+----------------------+----------------------+\n",
            "                                                                               \n",
            "+-----------------------------------------------------------------------------+\n",
            "| Processes:                                                                  |\n",
            "|  GPU   GI   CI        PID   Type   Process name                  GPU Memory |\n",
            "|        ID   ID                                                   Usage      |\n",
            "|=============================================================================|\n",
            "|  No running processes found                                                 |\n",
            "+-----------------------------------------------------------------------------+\n"
          ],
          "name": "stdout"
        }
      ]
    },
    {
      "cell_type": "markdown",
      "metadata": {
        "id": "dlK1TzKbAP_v"
      },
      "source": [
        ""
      ]
    },
    {
      "cell_type": "code",
      "metadata": {
        "id": "h_ddqkdp0euj"
      },
      "source": [
        "# Openpose \n",
        "# Openpose version tag\n",
        "ver_openpose = \"v1.6.0\""
      ],
      "execution_count": null,
      "outputs": []
    },
    {
      "cell_type": "code",
      "metadata": {
        "colab": {
          "base_uri": "https://localhost:8080/"
        },
        "id": "WtlM7y630hKK",
        "outputId": "faf7e897-399f-46f4-c1d2-3d6d9d19fea8"
      },
      "source": [
        "# If CMake is old, Openpose build fails, so download the latest version\n",
        "! cmake --version"
      ],
      "execution_count": null,
      "outputs": [
        {
          "output_type": "stream",
          "text": [
            "cmake version 3.12.0\n",
            "\n",
            "CMake suite maintained and supported by Kitware (kitware.com/cmake).\n"
          ],
          "name": "stdout"
        }
      ]
    },
    {
      "cell_type": "code",
      "metadata": {
        "id": "vjElcN2T0unQ"
      },
      "source": [
        "! wget -c \"https://github.com/Kitware/CMake/releases/download/v3.17.2/cmake-3.17.2.tar.gz\"\n",
        "! tar xf cmake-3.17.2.tar.gz\n",
        "! cd cmake-3.17.2 && ./configure && make && sudo make install"
      ],
      "execution_count": null,
      "outputs": []
    },
    {
      "cell_type": "code",
      "metadata": {
        "id": "i648A9lmKpvF"
      },
      "source": [
        "# Install library\n",
        "\n",
        "# Basic\n",
        "! sudo apt-get --assume-yes update\n",
        "! sudo apt-get --assume-yes install build-essential\n",
        "# OpenCV\n",
        "! sudo apt-get --assume-yes install libopencv-dev\n",
        "# General dependencies\n",
        "! sudo apt-get --assume-yes install libatlas-base-dev libprotobuf-dev libleveldb-dev libsnappy-dev libhdf5-serial-dev protobuf-compiler\n",
        "! sudo apt-get --assume-yes install --no-install-recommends libboost-all-dev\n",
        "# Remaining dependencies, 14.04\n",
        "! sudo apt-get --assume-yes install libgflags-dev libgoogle-glog-dev liblmdb-dev\n",
        "# Python3 libs\n",
        "! sudo apt-get --assume-yes install python3-setuptools python3-dev build-essential\n",
        "! sudo apt-get --assume-yes install python3-pip\n",
        "! sudo -H pip3 install --upgrade numpy protobuf opencv-python\n",
        "# OpenCL Generic\n",
        "! sudo apt-get --assume-yes install opencl-headers ocl-icd-opencl-dev\n",
        "! sudo apt-get --assume-yes install libviennacl-dev"
      ],
      "execution_count": null,
      "outputs": []
    },
    {
      "cell_type": "code",
      "metadata": {
        "colab": {
          "base_uri": "https://localhost:8080/"
        },
        "id": "AxvRJiaK1QXt",
        "outputId": "076de67d-5d88-4cf4-cd9d-a3b1bfcd9b38"
      },
      "source": [
        "# Clone Openpose\n",
        "! git clone  --depth 1 -b \"$ver_openpose\" https://github.com/CMU-Perceptual-Computing-Lab/openpose.git "
      ],
      "execution_count": null,
      "outputs": [
        {
          "output_type": "stream",
          "text": [
            "Cloning into 'openpose'...\n",
            "remote: Enumerating objects: 657, done.\u001b[K\n",
            "remote: Counting objects: 100% (657/657), done.\u001b[K\n",
            "remote: Compressing objects: 100% (623/623), done.\u001b[K\n",
            "remote: Total 657 (delta 168), reused 170 (delta 24), pack-reused 0\u001b[K\n",
            "Receiving objects: 100% (657/657), 46.51 MiB | 39.95 MiB/s, done.\n",
            "Resolving deltas: 100% (168/168), done.\n",
            "Note: checking out '3d057691b219dddf264c6e412a4560ac8a12dedb'.\n",
            "\n",
            "You are in 'detached HEAD' state. You can look around, make experimental\n",
            "changes and commit them, and you can discard any commits you make in this\n",
            "state without impacting any branches by performing another checkout.\n",
            "\n",
            "If you want to create a new branch to retain commits you create, you may\n",
            "do so (now or later) by using -b with the checkout command again. Example:\n",
            "\n",
            "  git checkout -b <new-branch-name>\n",
            "\n"
          ],
          "name": "stdout"
        }
      ]
    },
    {
      "cell_type": "code",
      "metadata": {
        "id": "B7vM17cQ1v3p"
      },
      "source": [
        "\n",
        "# Create build directory\n",
        "! cd openpose && mkdir build && cd build"
      ],
      "execution_count": null,
      "outputs": []
    },
    {
      "cell_type": "code",
      "metadata": {
        "colab": {
          "base_uri": "https://localhost:8080/"
        },
        "id": "tYTRc5YrKvv6",
        "outputId": "1be1ba8f-80e5-48fa-91b1-5d13ea93fc20"
      },
      "source": [
        "! cd openpose && mkdir build && cd build"
      ],
      "execution_count": null,
      "outputs": [
        {
          "output_type": "stream",
          "text": [
            "mkdir: cannot create directory ‘build’: File exists\n"
          ],
          "name": "stdout"
        }
      ]
    },
    {
      "cell_type": "code",
      "metadata": {
        "id": "bhCJ4zsf2AMa"
      },
      "source": [
        "# https://github.com/CMU-Perceptual-Computing-Lab/openpose/blob/master/doc/installation.md#cmake-command-line-configuration-ubuntu-only\n",
        "# Scenario 1 - Caffe not installed and OpenCV installed using apt-get\n",
        "! cd openpose/build && cmake .. \n",
        "\n",
        "\n",
        "# If you want to download the COCO model as well, execute the following command. (Please change \"# ! cd\" part to \"! cd\".)\n",
        "# ! cd openpose/build && cmake .. -D DOWNLOAD_BODY_COCO_MODEL=ON\n",
        "! cd openpose/build && cmake .. \n",
        "# MPIモデルのDLオプション付き（同上）\n",
        "# If you want to download the MPI model as well, execute the following command.\n",
        "# ! cd openpose/build && cmake .. -D DOWNLOAD_BODY_MPI_MODEL=ON"
      ],
      "execution_count": null,
      "outputs": []
    },
    {
      "cell_type": "code",
      "metadata": {
        "id": "L4Zf78976MKN"
      },
      "source": [
        "\n",
        "# Openpose Building\n",
        "\n",
        "! cd openpose/build && make -j`nproc`\n",
        "# output\n",
        "! cd openpose && mkdir output"
      ],
      "execution_count": null,
      "outputs": []
    },
    {
      "cell_type": "code",
      "metadata": {
        "id": "C5zoV5qHNrBq"
      },
      "source": [
        "import time\n",
        "time.sleep(3600)\n",
        "import os\n",
        "os.remove('/content/openpose/models/pose/body_25/pose_iter_584000.caffemodel')\n",
        "os.remove('/content/openpose/models/face/pose_iter_116000.caffemodel')\n",
        "os.remove('/content/openpose/models/hand/pose_iter_102000.caffemodel')\n",
        "os.rename('/content/pose_iter_584000.caffemodel','/content/openpose/models/pose/body_25/pose_iter_584000.caffemodel')\n",
        "os.rename('/content/pose_iter_116000.caffemodel','/content/openpose/models/face/pose_iter_116000.caffemodel')\n",
        "os.rename('/content/pose_iter_102000.caffemodel','/content/openpose/models/hand/pose_iter_102000.caffemodel')"
      ],
      "execution_count": null,
      "outputs": []
    },
    {
      "cell_type": "code",
      "metadata": {
        "colab": {
          "base_uri": "https://localhost:8080/"
        },
        "id": "Oz6qBJsfb_ps",
        "outputId": "c089ed9d-e658-4099-9ca2-775ff1ff5827"
      },
      "source": [
        "!sudo apt-get install ffmpeg"
      ],
      "execution_count": null,
      "outputs": [
        {
          "output_type": "stream",
          "text": [
            "Reading package lists... Done\n",
            "Building dependency tree       \n",
            "Reading state information... Done\n",
            "ffmpeg is already the newest version (7:3.4.8-0ubuntu0.2).\n",
            "0 upgraded, 0 newly installed, 0 to remove and 52 not upgraded.\n"
          ],
          "name": "stdout"
        }
      ]
    },
    {
      "cell_type": "code",
      "metadata": {
        "id": "vdj6qjy0Y7Iq"
      },
      "source": [
        "import os\n",
        "\n",
        "\n",
        "counter = 0\n",
        "!rm -rf \"/content/30 FPS Skeleton/Right\", \"/content/30 FPS JSON/Right\"\n",
        "directories = [\"/content/30 FPS Skeleton/Right\", \"/content/30 FPS JSON/Right\"]\n",
        "for dirs in directories:\n",
        "\tif not os.path.exists(dirs):\n",
        "\t    os.makedirs(dirs)\n",
        "\n",
        "\n",
        "\n",
        "for filename in os.listdir('/content/drive/MyDrive/All Clips 30FPS (Filtered)/Right'):\n",
        "  if \"flipped\" not in filename:\n",
        "     root_path = \"/content\"\n",
        "     file_path = \"drive/MyDrive/All Clips 30FPS (Filtered)/Right/\"+filename\n",
        "\n",
        "     output_path=\"/content/30 FPS JSON/Right/\"+filename.replace('.mp4','')\n",
        "     print(output_path)\n",
        "     counter=counter+1\n",
        "     print(\"Processed Videos:\")\n",
        "     print(counter)\n",
        "     \n",
        "     ! cd openpose && ./build/examples/openpose/openpose.bin --video \"$root_path/$file_path\"  --render_pose 0 --display 0  --number_people_max=2  --write_json \"$output_path\"\n"
      ],
      "execution_count": null,
      "outputs": []
    },
    {
      "cell_type": "code",
      "metadata": {
        "id": "fQmnu-rYY8qB"
      },
      "source": [
        "!zip -r \"Right_Json.zip\" \"/content/30 FPS JSON/Right\"\n",
        "from google.colab import files\n",
        "\n",
        "files.download(\"/content/Right_Json.zip\")"
      ],
      "execution_count": null,
      "outputs": []
    }
  ]
}